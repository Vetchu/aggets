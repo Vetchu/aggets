{
 "cells": [
  {
   "cell_type": "markdown",
   "id": "labeled-faculty",
   "metadata": {},
   "source": [
    "# Data exploration"
   ]
  },
  {
   "cell_type": "code",
   "execution_count": 269,
   "id": "swiss-fireplace",
   "metadata": {},
   "outputs": [],
   "source": [
    "import pandas as pd\n",
    "import matplotlib.pyplot as plt\n",
    "\n",
    "import sys\n",
    "sys.path.append(\"..\")\n",
    "\n",
    "import torch\n",
    "import torch.nn as nn\n",
    "import numpy as np\n",
    "\n",
    "import aggets.ds.moving as moving\n",
    "import aggets.ds.aggregate3 as aggregate\n",
    "import aggets.ds.hyper_f_load as hyper_f_load\n",
    "\n",
    "from scipy.io import arff"
   ]
  },
  {
   "cell_type": "code",
   "execution_count": 270,
   "id": "funny-blogger",
   "metadata": {},
   "outputs": [],
   "source": [
    "path = './data/ts/hyperplane/hyper_f.csv'\n",
    "data_test = pd.read_csv(path)"
   ]
  },
  {
   "cell_type": "code",
   "execution_count": 271,
   "id": "offensive-pipeline",
   "metadata": {},
   "outputs": [
    {
     "data": {
      "text/html": [
       "<div>\n",
       "<style scoped>\n",
       "    .dataframe tbody tr th:only-of-type {\n",
       "        vertical-align: middle;\n",
       "    }\n",
       "\n",
       "    .dataframe tbody tr th {\n",
       "        vertical-align: top;\n",
       "    }\n",
       "\n",
       "    .dataframe thead th {\n",
       "        text-align: right;\n",
       "    }\n",
       "</style>\n",
       "<table border=\"1\" class=\"dataframe\">\n",
       "  <thead>\n",
       "    <tr style=\"text-align: right;\">\n",
       "      <th></th>\n",
       "      <th>att1</th>\n",
       "      <th>att2</th>\n",
       "      <th>att3</th>\n",
       "      <th>att4</th>\n",
       "      <th>att5</th>\n",
       "      <th>att6</th>\n",
       "      <th>att7</th>\n",
       "      <th>att8</th>\n",
       "      <th>att9</th>\n",
       "      <th>att10</th>\n",
       "      <th>class</th>\n",
       "    </tr>\n",
       "  </thead>\n",
       "  <tbody>\n",
       "    <tr>\n",
       "      <th>0</th>\n",
       "      <td>0.397174</td>\n",
       "      <td>0.347518</td>\n",
       "      <td>0.294057</td>\n",
       "      <td>0.506484</td>\n",
       "      <td>0.115967</td>\n",
       "      <td>0.770536</td>\n",
       "      <td>0.659893</td>\n",
       "      <td>0.156747</td>\n",
       "      <td>0.378202</td>\n",
       "      <td>0.139763</td>\n",
       "      <td>0</td>\n",
       "    </tr>\n",
       "    <tr>\n",
       "      <th>1</th>\n",
       "      <td>0.275030</td>\n",
       "      <td>0.075388</td>\n",
       "      <td>0.610592</td>\n",
       "      <td>0.954931</td>\n",
       "      <td>0.274069</td>\n",
       "      <td>0.190202</td>\n",
       "      <td>0.001299</td>\n",
       "      <td>0.683527</td>\n",
       "      <td>0.486260</td>\n",
       "      <td>0.487515</td>\n",
       "      <td>0</td>\n",
       "    </tr>\n",
       "    <tr>\n",
       "      <th>2</th>\n",
       "      <td>0.233156</td>\n",
       "      <td>0.889909</td>\n",
       "      <td>0.038327</td>\n",
       "      <td>0.592379</td>\n",
       "      <td>0.655174</td>\n",
       "      <td>0.119839</td>\n",
       "      <td>0.652477</td>\n",
       "      <td>0.984323</td>\n",
       "      <td>0.206738</td>\n",
       "      <td>0.374650</td>\n",
       "      <td>1</td>\n",
       "    </tr>\n",
       "    <tr>\n",
       "      <th>3</th>\n",
       "      <td>0.277937</td>\n",
       "      <td>0.340915</td>\n",
       "      <td>0.265790</td>\n",
       "      <td>0.116670</td>\n",
       "      <td>0.136830</td>\n",
       "      <td>0.546089</td>\n",
       "      <td>0.494619</td>\n",
       "      <td>0.015384</td>\n",
       "      <td>0.358995</td>\n",
       "      <td>0.242478</td>\n",
       "      <td>0</td>\n",
       "    </tr>\n",
       "    <tr>\n",
       "      <th>4</th>\n",
       "      <td>0.254909</td>\n",
       "      <td>0.777916</td>\n",
       "      <td>0.225022</td>\n",
       "      <td>0.983103</td>\n",
       "      <td>0.803619</td>\n",
       "      <td>0.836315</td>\n",
       "      <td>0.163104</td>\n",
       "      <td>0.637497</td>\n",
       "      <td>0.008760</td>\n",
       "      <td>0.631190</td>\n",
       "      <td>0</td>\n",
       "    </tr>\n",
       "    <tr>\n",
       "      <th>...</th>\n",
       "      <td>...</td>\n",
       "      <td>...</td>\n",
       "      <td>...</td>\n",
       "      <td>...</td>\n",
       "      <td>...</td>\n",
       "      <td>...</td>\n",
       "      <td>...</td>\n",
       "      <td>...</td>\n",
       "      <td>...</td>\n",
       "      <td>...</td>\n",
       "      <td>...</td>\n",
       "    </tr>\n",
       "    <tr>\n",
       "      <th>999995</th>\n",
       "      <td>0.998501</td>\n",
       "      <td>0.507983</td>\n",
       "      <td>0.751220</td>\n",
       "      <td>0.122945</td>\n",
       "      <td>0.582209</td>\n",
       "      <td>0.230258</td>\n",
       "      <td>0.417630</td>\n",
       "      <td>0.112357</td>\n",
       "      <td>0.863361</td>\n",
       "      <td>0.229976</td>\n",
       "      <td>0</td>\n",
       "    </tr>\n",
       "    <tr>\n",
       "      <th>999996</th>\n",
       "      <td>0.324837</td>\n",
       "      <td>0.920977</td>\n",
       "      <td>0.489746</td>\n",
       "      <td>0.637164</td>\n",
       "      <td>0.654715</td>\n",
       "      <td>0.457670</td>\n",
       "      <td>0.617665</td>\n",
       "      <td>0.378239</td>\n",
       "      <td>0.130823</td>\n",
       "      <td>0.021858</td>\n",
       "      <td>0</td>\n",
       "    </tr>\n",
       "    <tr>\n",
       "      <th>999997</th>\n",
       "      <td>0.388339</td>\n",
       "      <td>0.504116</td>\n",
       "      <td>0.899589</td>\n",
       "      <td>0.336088</td>\n",
       "      <td>0.758977</td>\n",
       "      <td>0.821157</td>\n",
       "      <td>0.563754</td>\n",
       "      <td>0.619972</td>\n",
       "      <td>0.938034</td>\n",
       "      <td>0.964131</td>\n",
       "      <td>1</td>\n",
       "    </tr>\n",
       "    <tr>\n",
       "      <th>999998</th>\n",
       "      <td>0.172347</td>\n",
       "      <td>0.683183</td>\n",
       "      <td>0.620007</td>\n",
       "      <td>0.649647</td>\n",
       "      <td>0.208711</td>\n",
       "      <td>0.425091</td>\n",
       "      <td>0.209693</td>\n",
       "      <td>0.165179</td>\n",
       "      <td>0.523398</td>\n",
       "      <td>0.227523</td>\n",
       "      <td>0</td>\n",
       "    </tr>\n",
       "    <tr>\n",
       "      <th>999999</th>\n",
       "      <td>0.192491</td>\n",
       "      <td>0.072938</td>\n",
       "      <td>0.550282</td>\n",
       "      <td>0.394652</td>\n",
       "      <td>0.403093</td>\n",
       "      <td>0.068795</td>\n",
       "      <td>0.694740</td>\n",
       "      <td>0.559571</td>\n",
       "      <td>0.218986</td>\n",
       "      <td>0.682735</td>\n",
       "      <td>1</td>\n",
       "    </tr>\n",
       "  </tbody>\n",
       "</table>\n",
       "<p>1000000 rows × 11 columns</p>\n",
       "</div>"
      ],
      "text/plain": [
       "            att1      att2      att3      att4      att5      att6      att7  \\\n",
       "0       0.397174  0.347518  0.294057  0.506484  0.115967  0.770536  0.659893   \n",
       "1       0.275030  0.075388  0.610592  0.954931  0.274069  0.190202  0.001299   \n",
       "2       0.233156  0.889909  0.038327  0.592379  0.655174  0.119839  0.652477   \n",
       "3       0.277937  0.340915  0.265790  0.116670  0.136830  0.546089  0.494619   \n",
       "4       0.254909  0.777916  0.225022  0.983103  0.803619  0.836315  0.163104   \n",
       "...          ...       ...       ...       ...       ...       ...       ...   \n",
       "999995  0.998501  0.507983  0.751220  0.122945  0.582209  0.230258  0.417630   \n",
       "999996  0.324837  0.920977  0.489746  0.637164  0.654715  0.457670  0.617665   \n",
       "999997  0.388339  0.504116  0.899589  0.336088  0.758977  0.821157  0.563754   \n",
       "999998  0.172347  0.683183  0.620007  0.649647  0.208711  0.425091  0.209693   \n",
       "999999  0.192491  0.072938  0.550282  0.394652  0.403093  0.068795  0.694740   \n",
       "\n",
       "            att8      att9     att10  class  \n",
       "0       0.156747  0.378202  0.139763      0  \n",
       "1       0.683527  0.486260  0.487515      0  \n",
       "2       0.984323  0.206738  0.374650      1  \n",
       "3       0.015384  0.358995  0.242478      0  \n",
       "4       0.637497  0.008760  0.631190      0  \n",
       "...          ...       ...       ...    ...  \n",
       "999995  0.112357  0.863361  0.229976      0  \n",
       "999996  0.378239  0.130823  0.021858      0  \n",
       "999997  0.619972  0.938034  0.964131      1  \n",
       "999998  0.165179  0.523398  0.227523      0  \n",
       "999999  0.559571  0.218986  0.682735      1  \n",
       "\n",
       "[1000000 rows x 11 columns]"
      ]
     },
     "execution_count": 271,
     "metadata": {},
     "output_type": "execute_result"
    }
   ],
   "source": [
    "data_test"
   ]
  },
  {
   "cell_type": "markdown",
   "id": "dca5b6c5",
   "metadata": {},
   "source": [
    "Train, Vali, Test data split\n",
    "\n",
    "tbd"
   ]
  },
  {
   "cell_type": "markdown",
   "id": "e2f27fa0",
   "metadata": {},
   "source": [
    "# loading the data"
   ]
  },
  {
   "cell_type": "code",
   "execution_count": 272,
   "id": "0a0aefda",
   "metadata": {},
   "outputs": [],
   "source": [
    "path = './data/ts/new/fin_adult.csv'\n",
    "fin_adult = pd.read_csv(path, names = ['att' + str(i + 1) for i in range(65)] + ['class'])\n"
   ]
  },
  {
   "cell_type": "code",
   "execution_count": 273,
   "id": "aa562b22",
   "metadata": {},
   "outputs": [],
   "source": [
    "path = './data/ts/new/numbers.csv'\n",
    "data_test = pd.read_csv(path, names = ['att' + str(i+1) for i in range(16)] + ['class'])\n",
    "data_test\n",
    "\n",
    "FEATURES_NUMBER = 10\n",
    "ROW_AMOUNT = 1000000\n",
    "\n",
    "random_data = np.random.random(size=(ROW_AMOUNT,FEATURES_NUMBER))\n",
    "random_classes = np.random.randint(0, 2, size=(ROW_AMOUNT))\n",
    "random_df = pd.DataFrame(random_data, columns=['att' + str(i+1) for i in range(FEATURES_NUMBER)])\n",
    "random_df['class'] = pd.Series(random_classes.T)\n"
   ]
  },
  {
   "cell_type": "markdown",
   "id": "671a2b47",
   "metadata": {},
   "source": [
    "# train, vali, test data split"
   ]
  },
  {
   "cell_type": "code",
   "execution_count": 274,
   "id": "caf4254c",
   "metadata": {},
   "outputs": [],
   "source": [
    "data_test = random_df\n",
    "\n",
    "train_p, vali_p, test_p = .7, .2, .1\n",
    "n = data_test.shape[0]\n",
    "\n",
    "train_df, vali_df, test_df = data_test[:int(n*train_p)], data_test[int(n*train_p):int(n*(train_p+vali_p))], data_test[int(n*(train_p+vali_p)):]\n",
    "\n",
    "num_features = data_test.shape[1]\n",
    "column_indices = {name: i for i, name in enumerate(data_test.columns)}\n",
    "\n",
    "data_obj = {'train': train_df, 'val': vali_df, 'test': test_df, 'features': num_features, 'column_indices': column_indices , 'df': data_test}\n"
   ]
  },
  {
   "cell_type": "markdown",
   "id": "21149a18",
   "metadata": {},
   "source": [
    "# window generator"
   ]
  },
  {
   "cell_type": "code",
   "execution_count": 275,
   "id": "1ed1d5e6",
   "metadata": {},
   "outputs": [],
   "source": [
    "data = data_obj\n",
    "\n",
    "wg = aggregate.WindowGenerator(chunk_size=500, samples=5, sample_frac=0.8, \n",
    "                               input_sequence_length=10,\n",
    "                               df =  data['df'], # full columns information\n",
    "                               train_df = data['train'],\n",
    "                               val_df = data['val'],\n",
    "                               test_df = data['test'],\n",
    "                               label_columns=['class'],\n",
    "                               bin_count=1, discretization=20)\n",
    "\n",
    "wg_tmp = aggregate.WindowGenerator(chunk_size=500, samples=5, sample_frac=0.8, \n",
    "                               input_sequence_length=10,\n",
    "                               df =  data['df'], # full columns information\n",
    "                               train_df = data['train'],\n",
    "                               val_df = data['val'],\n",
    "                               test_df = data['test'],\n",
    "                               label_columns=['class'],\n",
    "                               bin_count=1, discretization=20)"
   ]
  },
  {
   "cell_type": "code",
   "execution_count": 276,
   "id": "ccfbefab",
   "metadata": {},
   "outputs": [
    {
     "name": "stdout",
     "output_type": "stream",
     "text": [
      "                                                                     \r"
     ]
    }
   ],
   "source": [
    "wg.init_structures()"
   ]
  },
  {
   "cell_type": "code",
   "execution_count": 277,
   "id": "fafde706",
   "metadata": {},
   "outputs": [],
   "source": [
    "import aggets.util as util\n",
    "\n",
    "util.save(wg, path='window_08_test.bin') # chunk_size=2500, samples=25, sample_frac=0.8, bin_count=1, discretization=20 (lr trains on data without bins), no normalization of aggregates, density included\n",
    "wg_tmp.load_data(util.load(path='window_08_test.bin'))"
   ]
  },
  {
   "cell_type": "code",
   "execution_count": 278,
   "id": "543c2fe8",
   "metadata": {},
   "outputs": [
    {
     "name": "stdout",
     "output_type": "stream",
     "text": [
      "200 200 11 torch.Size([399, 5, 11])\n"
     ]
    }
   ],
   "source": [
    "wg_tmp.density = True\n",
    "wg_tmp.density_encoded = True\n",
    "wg_tmp.one_row_ts = True\n",
    "\n",
    "wg_tmp.reverse_train = True\n",
    "wg_tmp.shuffle_input = False\n",
    "wg_tmp.shuffle_output = False\n",
    "wg_tmp.double_target = False\n",
    "wg_tmp.train_histograms = False\n",
    "\n",
    "dim_p = wg_tmp.test_agges.shape[-1]\n",
    "dim_d = wg_tmp.test_agges.shape[-1]\n",
    "dim_lr = wg_tmp.test_lr.shape[-1]\n",
    "\n",
    "print(dim_p, dim_d, dim_lr, wg_tmp.val_lr.shape)"
   ]
  },
  {
   "cell_type": "code",
   "execution_count": 279,
   "id": "3bdce907",
   "metadata": {},
   "outputs": [],
   "source": [
    "def plot(set_type, model, wg, axs, ylim=None):\n",
    "    rolling = 300 if set_type == 'train' else 100\n",
    "    aucs = wg.plot(model=model, model_data_fn=None, last_train=False, lr0=False, lr_t0=True,  # set_type=='train',\n",
    "                   set_type=set_type, no_lr=False, model_resid=False, rolling=rolling, axs=axs,\n",
    "                   plot_box_auc=False, lr_tn=10, train=0.5)\n",
    "\n",
    "    vals = {}\n",
    "    for key in aucs:\n",
    "        if '=' in key:\n",
    "            into = key[key.index('=') - 1:]\n",
    "        else:\n",
    "            into = key\n",
    "        arr = vals.get(into, [])\n",
    "        arr.append(np.mean(aucs[key].to_numpy()))\n",
    "        vals[into] = arr\n",
    "    if ylim is not None:\n",
    "        plt.ylim(*ylim)\n",
    "    plt.sca(axs[-1])\n",
    "    plt.boxplot(list(vals.values()), showfliers=True)\n",
    "    plt.xticks(range(1, len(vals.keys()) + 1), vals.keys(), rotation=90)\n",
    "    if ylim is not None:\n",
    "        plt.ylim(*ylim)\n",
    "    plt.ylabel('AUC')"
   ]
  },
  {
   "cell_type": "code",
   "execution_count": 280,
   "id": "7592ce8e",
   "metadata": {
    "scrolled": false
   },
   "outputs": [
    {
     "name": "stdout",
     "output_type": "stream",
     "text": [
      "config in=10, out=5\n",
      "training model lstm\n",
      "epoch 0 batch 200 loss=0.0326, MTL=0.0326, MVL=0.0486\t\t\t\t\n",
      "epoch 0 batch 400 loss=0.0282, MTL=0.0318, MVL=0.0486\t\t\t\t\n",
      "saving model MTL=0.03152136939123927, MVL=0.027563047129660845\n",
      "*epoch 1 batch 600 loss=0.0287, MTL=0.0276, MVL=0.0276\t\t\t\t\n",
      "*epoch 1 batch 800 loss=0.0256, MTL=0.0272, MVL=0.0276\t\t\t\t\n",
      "saving model MTL=0.026842384868006785, MVL=0.024823376536369325\n",
      "*epoch 2 batch 1000 loss=0.0236, MTL=0.024, MVL=0.0248\t\t\t\t\n",
      "*epoch 2 batch 1200 loss=0.0194, MTL=0.023, MVL=0.0248\t\t\t\t\n",
      "saving model MTL=0.022393035683049616, MVL=0.01992398820196589\n",
      "*epoch 3 batch 1400 loss=0.0181, MTL=0.0188, MVL=0.0199\t\t\t\t\n",
      "*epoch 3 batch 1600 loss=0.0178, MTL=0.0185, MVL=0.0199\t\t\t\t\n",
      "saving model MTL=0.018085240558495284, MVL=0.01842867163941264\n",
      "*epoch 4 batch 1800 loss=0.0168, MTL=0.017, MVL=0.0184\t\t\t\t\n",
      "*epoch 4 batch 2000 loss=0.0156, MTL=0.0167, MVL=0.0184\t\t\t\t\n",
      "saving model MTL=0.016360164789900218, MVL=0.017410644919921954\n"
     ]
    },
    {
     "data": {
      "image/png": "[encoded data removed]",
      "text/plain": [
       "<Figure size 432x288 with 1 Axes>"
      ]
     },
     "metadata": {
      "needs_background": "light"
     },
     "output_type": "display_data"
    },
    {
     "name": "stdout",
     "output_type": "stream",
     "text": [
      "epoch 0 batch 200 loss=0.0144, MTL=0.0152, MVL=0.0174\t\t\t\t\n",
      "epoch 0 batch 400 loss=0.0154, MTL=0.0152, MVL=0.0174\t\t\t\t\n",
      "saving model MTL=0.015163155562969195, MVL=0.01701296316459775\n",
      "*epoch 1 batch 600 loss=0.0152, MTL=0.0151, MVL=0.017\t\t\t\t\n",
      "*epoch 1 batch 800 loss=0.0147, MTL=0.0151, MVL=0.017\t\t\t\t\n",
      "saving model MTL=0.015066102699873492, MVL=0.016969551984220742\n",
      "*epoch 2 batch 1000 loss=0.0143, MTL=0.0149, MVL=0.017\t\t\t\t\n",
      "*epoch 2 batch 1200 loss=0.0152, MTL=0.015, MVL=0.017\t\t\t\t\n",
      "epoch 3 batch 1400 loss=0.0164, MTL=0.0149, MVL=0.017\t\t\t\t\n",
      "epoch 3 batch 1600 loss=0.0151, MTL=0.0149, MVL=0.017\t\t\t\t\n",
      "epoch 4 batch 1800 loss=0.0154, MTL=0.0149, MVL=0.0171\t\t\t\t\n",
      "epoch 4 batch 2000 loss=0.0154, MTL=0.0149, MVL=0.0171\t\t\t\t\n"
     ]
    },
    {
     "data": {
      "image/png": "[encoded data removed]",
      "text/plain": [
       "<Figure size 432x288 with 1 Axes>"
      ]
     },
     "metadata": {
      "needs_background": "light"
     },
     "output_type": "display_data"
    },
    {
     "data": {
      "image/png": "[encoded data removed]",
      "text/plain": [
       "<Figure size 1080x432 with 6 Axes>"
      ]
     },
     "metadata": {
      "needs_background": "light"
     },
     "output_type": "display_data"
    }
   ],
   "source": [
    "import aggets.model.aggregate as m_agg\n",
    "import aggets.train as train\n",
    "\n",
    "\n",
    "#\n",
    "wg_tmp.input_sequence_length = 10\n",
    "\n",
    "model = m_agg.AutoregLstmLr(dim_p + dim_d, dim_lr, num_layers=2, hidden=128,\n",
    "                            output_sequence_length=5, return_deltas=False)\n",
    "model.name=f'lstm'\n",
    "train.train_window_models([model], wg_tmp, patience=5, validate=True, weight_decay=0, max_epochs=5,\n",
    "                          lrs=[0.001, 0.0001])\n",
    "model.window_config.output_sequence_length = 1\n",
    "model.return_deltas = False\n",
    "\n",
    "# przyjmuje wiecej niz jeden model\n",
    "def plot_only(models, wg, ylim=None):\n",
    "    _, axs = plt.subplots(ncols=3, nrows=2, sharey='row', figsize=(15,6))\n",
    "    plot('train', models, wg, axs=[axs[0][0], axs[1][0]], ylim=ylim)\n",
    "    plot('val',   models, wg, axs=[axs[0][1], axs[1][1]], ylim=ylim)\n",
    "    plot('test',  models, wg, axs=[axs[0][2], axs[1][2]], ylim=ylim)\n",
    "plot_only([model], wg_tmp)"
   ]
  },
  {
   "cell_type": "code",
   "execution_count": null,
   "id": "2fe2145a",
   "metadata": {},
   "outputs": [],
   "source": []
  },
  {
   "cell_type": "code",
   "execution_count": null,
   "id": "bdb6c7d9",
   "metadata": {},
   "outputs": [],
   "source": []
  },
  {
   "cell_type": "code",
   "execution_count": null,
   "id": "59c4878e",
   "metadata": {},
   "outputs": [],
   "source": []
  }
 ],
 "metadata": {
  "kernelspec": {
   "display_name": "pp-2",
   "language": "python",
   "name": "pp-2"
  },
  "language_info": {
   "codemirror_mode": {
    "name": "ipython",
    "version": 3
   },
   "file_extension": ".py",
   "mimetype": "text/x-python",
   "name": "python",
   "nbconvert_exporter": "python",
   "pygments_lexer": "ipython3",
   "version": "3.8.8"
  }
 },
 "nbformat": 4,
 "nbformat_minor": 5
}
